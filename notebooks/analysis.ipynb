{
 "cells": [
  {
   "cell_type": "code",
   "execution_count": 1,
   "source": [
    "import pandas as pd\n",
    "from pandas_datareader import data"
   ],
   "outputs": [],
   "metadata": {}
  },
  {
   "cell_type": "code",
   "execution_count": 2,
   "source": [
    "df = data.get_data_yahoo('MSFT', '2021-01-01', '2021-08-31')\n",
    "df.head()"
   ],
   "outputs": [
    {
     "output_type": "execute_result",
     "data": {
      "text/plain": [
       "                  High         Low        Open       Close      Volume  \\\n",
       "Date                                                                     \n",
       "2021-01-04  223.000000  214.809998  222.529999  217.690002  37130100.0   \n",
       "2021-01-05  218.520004  215.699997  217.259995  217.899994  23823000.0   \n",
       "2021-01-06  216.490005  211.940002  212.169998  212.250000  35930700.0   \n",
       "2021-01-07  219.339996  213.710007  214.039993  218.289993  27694500.0   \n",
       "2021-01-08  220.580002  217.029999  218.679993  219.619995  22956200.0   \n",
       "\n",
       "             Adj Close  \n",
       "Date                    \n",
       "2021-01-04  216.275375  \n",
       "2021-01-05  216.484009  \n",
       "2021-01-06  210.870728  \n",
       "2021-01-07  216.871460  \n",
       "2021-01-08  218.192841  "
      ],
      "text/html": [
       "<div>\n",
       "<style scoped>\n",
       "    .dataframe tbody tr th:only-of-type {\n",
       "        vertical-align: middle;\n",
       "    }\n",
       "\n",
       "    .dataframe tbody tr th {\n",
       "        vertical-align: top;\n",
       "    }\n",
       "\n",
       "    .dataframe thead th {\n",
       "        text-align: right;\n",
       "    }\n",
       "</style>\n",
       "<table border=\"1\" class=\"dataframe\">\n",
       "  <thead>\n",
       "    <tr style=\"text-align: right;\">\n",
       "      <th></th>\n",
       "      <th>High</th>\n",
       "      <th>Low</th>\n",
       "      <th>Open</th>\n",
       "      <th>Close</th>\n",
       "      <th>Volume</th>\n",
       "      <th>Adj Close</th>\n",
       "    </tr>\n",
       "    <tr>\n",
       "      <th>Date</th>\n",
       "      <th></th>\n",
       "      <th></th>\n",
       "      <th></th>\n",
       "      <th></th>\n",
       "      <th></th>\n",
       "      <th></th>\n",
       "    </tr>\n",
       "  </thead>\n",
       "  <tbody>\n",
       "    <tr>\n",
       "      <th>2021-01-04</th>\n",
       "      <td>223.000000</td>\n",
       "      <td>214.809998</td>\n",
       "      <td>222.529999</td>\n",
       "      <td>217.690002</td>\n",
       "      <td>37130100.0</td>\n",
       "      <td>216.275375</td>\n",
       "    </tr>\n",
       "    <tr>\n",
       "      <th>2021-01-05</th>\n",
       "      <td>218.520004</td>\n",
       "      <td>215.699997</td>\n",
       "      <td>217.259995</td>\n",
       "      <td>217.899994</td>\n",
       "      <td>23823000.0</td>\n",
       "      <td>216.484009</td>\n",
       "    </tr>\n",
       "    <tr>\n",
       "      <th>2021-01-06</th>\n",
       "      <td>216.490005</td>\n",
       "      <td>211.940002</td>\n",
       "      <td>212.169998</td>\n",
       "      <td>212.250000</td>\n",
       "      <td>35930700.0</td>\n",
       "      <td>210.870728</td>\n",
       "    </tr>\n",
       "    <tr>\n",
       "      <th>2021-01-07</th>\n",
       "      <td>219.339996</td>\n",
       "      <td>213.710007</td>\n",
       "      <td>214.039993</td>\n",
       "      <td>218.289993</td>\n",
       "      <td>27694500.0</td>\n",
       "      <td>216.871460</td>\n",
       "    </tr>\n",
       "    <tr>\n",
       "      <th>2021-01-08</th>\n",
       "      <td>220.580002</td>\n",
       "      <td>217.029999</td>\n",
       "      <td>218.679993</td>\n",
       "      <td>219.619995</td>\n",
       "      <td>22956200.0</td>\n",
       "      <td>218.192841</td>\n",
       "    </tr>\n",
       "  </tbody>\n",
       "</table>\n",
       "</div>"
      ]
     },
     "metadata": {},
     "execution_count": 2
    }
   ],
   "metadata": {}
  }
 ],
 "metadata": {
  "orig_nbformat": 4,
  "language_info": {
   "name": "python",
   "version": "3.8.2",
   "mimetype": "text/x-python",
   "codemirror_mode": {
    "name": "ipython",
    "version": 3
   },
   "pygments_lexer": "ipython3",
   "nbconvert_exporter": "python",
   "file_extension": ".py"
  },
  "kernelspec": {
   "name": "python3",
   "display_name": "Python 3.8.2 64-bit ('venv': venv)"
  },
  "interpreter": {
   "hash": "4abbd0f105dc08d1ae9872fd91b97e77376ca17c41e0eb83df1d3ae7ee7b7174"
  }
 },
 "nbformat": 4,
 "nbformat_minor": 2
}